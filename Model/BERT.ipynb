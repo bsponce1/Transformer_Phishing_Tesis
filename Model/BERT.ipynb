{
  "cells": [
    {
      "cell_type": "markdown",
      "metadata": {
        "id": "5w_XlxN1IsRJ"
      },
      "source": [
        "You will use the AdamW optimizer from [tensorflow/models](https://github.com/tensorflow/models)."
      ]
    },
    {
      "cell_type": "code",
      "execution_count": 3,
      "metadata": {},
      "outputs": [
        {
          "name": "stdout",
          "output_type": "stream",
          "text": [
            "Note: you may need to restart the kernel to use updated packages.\n"
          ]
        },
        {
          "name": "stderr",
          "output_type": "stream",
          "text": [
            "WARNING: Ignoring invalid distribution -ensorboard (c:\\users\\bryan\\appdata\\local\\programs\\python\\python310\\lib\\site-packages)\n",
            "WARNING: Ignoring invalid distribution -rotobuf (c:\\users\\bryan\\appdata\\local\\programs\\python\\python310\\lib\\site-packages)\n",
            "ERROR: Could not find a version that satisfies the requirement tensorflow-text==2.12.* (from versions: 2.8.1, 2.8.2, 2.9.0rc0, 2.9.0rc1, 2.9.0, 2.10.0b2, 2.10.0rc0, 2.10.0)\n",
            "ERROR: No matching distribution found for tensorflow-text==2.12.*\n"
          ]
        }
      ],
      "source": [
        "pip install -U \"tensorflow-text==2.12.*\""
      ]
    },
    {
      "cell_type": "code",
      "execution_count": 4,
      "metadata": {},
      "outputs": [
        {
          "name": "stdout",
          "output_type": "stream",
          "text": [
            "Collecting tensorflow==1.8.0\n",
            "  Using cached https://storage.googleapis.com/tensorflow/mac/cpu/tensorflow-1.8.0-py3-none-any.whl (46.5 MB)\n",
            "Requirement already satisfied: absl-py>=0.1.6 in c:\\users\\bryan\\appdata\\local\\programs\\python\\python310\\lib\\site-packages (from tensorflow==1.8.0) (1.4.0)\n",
            "Requirement already satisfied: astor>=0.6.0 in c:\\users\\bryan\\appdata\\local\\programs\\python\\python310\\lib\\site-packages (from tensorflow==1.8.0) (0.8.1)\n",
            "Requirement already satisfied: gast>=0.2.0 in c:\\users\\bryan\\appdata\\local\\programs\\python\\python310\\lib\\site-packages (from tensorflow==1.8.0) (0.4.0)\n",
            "Requirement already satisfied: numpy>=1.13.3 in c:\\users\\bryan\\appdata\\local\\programs\\python\\python310\\lib\\site-packages (from tensorflow==1.8.0) (1.26.4)\n",
            "Requirement already satisfied: six>=1.10.0 in c:\\users\\bryan\\appdata\\roaming\\python\\python310\\site-packages (from tensorflow==1.8.0) (1.16.0)\n",
            "Requirement already satisfied: protobuf>=3.4.0 in c:\\users\\bryan\\appdata\\local\\programs\\python\\python310\\lib\\site-packages (from tensorflow==1.8.0) (3.19.6)\n",
            "Collecting tensorboard<1.9.0,>=1.8.0 (from tensorflow==1.8.0)\n",
            "  Using cached tensorboard-1.8.0-py3-none-any.whl.metadata (1.7 kB)\n",
            "Requirement already satisfied: termcolor>=1.1.0 in c:\\users\\bryan\\appdata\\local\\programs\\python\\python310\\lib\\site-packages (from tensorflow==1.8.0) (2.4.0)\n",
            "Requirement already satisfied: grpcio>=1.8.6 in c:\\users\\bryan\\appdata\\local\\programs\\python\\python310\\lib\\site-packages (from tensorflow==1.8.0) (1.60.1)\n",
            "Requirement already satisfied: wheel>=0.26 in c:\\users\\bryan\\appdata\\local\\programs\\python\\python310\\lib\\site-packages (from tensorflow==1.8.0) (0.42.0)\n",
            "Requirement already satisfied: werkzeug>=0.11.10 in c:\\users\\bryan\\appdata\\local\\programs\\python\\python310\\lib\\site-packages (from tensorboard<1.9.0,>=1.8.0->tensorflow==1.8.0) (3.0.1)\n",
            "Requirement already satisfied: html5lib==0.9999999 in c:\\users\\bryan\\appdata\\local\\programs\\python\\python310\\lib\\site-packages (from tensorboard<1.9.0,>=1.8.0->tensorflow==1.8.0) (0.9999999)\n",
            "Requirement already satisfied: markdown>=2.6.8 in c:\\users\\bryan\\appdata\\local\\programs\\python\\python310\\lib\\site-packages (from tensorboard<1.9.0,>=1.8.0->tensorflow==1.8.0) (3.5.2)\n",
            "Requirement already satisfied: bleach==1.5.0 in c:\\users\\bryan\\appdata\\local\\programs\\python\\python310\\lib\\site-packages (from tensorboard<1.9.0,>=1.8.0->tensorflow==1.8.0) (1.5.0)\n",
            "Requirement already satisfied: MarkupSafe>=2.1.1 in c:\\users\\bryan\\appdata\\local\\programs\\python\\python310\\lib\\site-packages (from werkzeug>=0.11.10->tensorboard<1.9.0,>=1.8.0->tensorflow==1.8.0) (2.1.5)\n",
            "Using cached tensorboard-1.8.0-py3-none-any.whl (3.1 MB)\n",
            "Installing collected packages: tensorboard, tensorflow\n",
            "  Attempting uninstall: tensorboard\n",
            "    Found existing installation: tensorboard 2.10.1\n",
            "    Uninstalling tensorboard-2.10.1:\n",
            "      Successfully uninstalled tensorboard-2.10.1\n",
            "  Attempting uninstall: tensorflow\n",
            "    Found existing installation: tensorflow 2.10.1\n",
            "    Uninstalling tensorflow-2.10.1:\n",
            "      Successfully uninstalled tensorflow-2.10.1\n",
            "Successfully installed tensorboard-1.8.0 tensorflow-1.8.0\n",
            "Note: you may need to restart the kernel to use updated packages.\n"
          ]
        },
        {
          "name": "stderr",
          "output_type": "stream",
          "text": [
            "WARNING: Ignoring invalid distribution -ensorboard (c:\\users\\bryan\\appdata\\local\\programs\\python\\python310\\lib\\site-packages)\n",
            "WARNING: Ignoring invalid distribution -rotobuf (c:\\users\\bryan\\appdata\\local\\programs\\python\\python310\\lib\\site-packages)\n",
            "WARNING: Ignoring invalid distribution -ensorboard (c:\\users\\bryan\\appdata\\local\\programs\\python\\python310\\lib\\site-packages)\n",
            "WARNING: Ignoring invalid distribution -rotobuf (c:\\users\\bryan\\appdata\\local\\programs\\python\\python310\\lib\\site-packages)\n",
            "  WARNING: The script tensorboard.exe is installed in 'c:\\Users\\Bryan\\AppData\\Local\\Programs\\Python\\Python310\\Scripts' which is not on PATH.\n",
            "  Consider adding this directory to PATH or, if you prefer to suppress this warning, use --no-warn-script-location.\n",
            "  WARNING: The scripts freeze_graph.exe, saved_model_cli.exe, tensorboard.exe, toco.exe and toco_from_protos.exe are installed in 'c:\\Users\\Bryan\\AppData\\Local\\Programs\\Python\\Python310\\Scripts' which is not on PATH.\n",
            "  Consider adding this directory to PATH or, if you prefer to suppress this warning, use --no-warn-script-location.\n",
            "ERROR: pip's dependency resolver does not currently take into account all the packages that are installed. This behaviour is the source of the following dependency conflicts.\n",
            "tensorflow-text 2.10.0 requires tensorflow<2.11,>=2.10.0; platform_machine != \"arm64\" or platform_system != \"Darwin\", but you have tensorflow 1.8.0 which is incompatible.\n",
            "tf-models-official 2.10.1 requires tensorflow~=2.10.0, but you have tensorflow 1.8.0 which is incompatible.\n"
          ]
        }
      ],
      "source": [
        "pip install https://storage.googleapis.com/tensorflow/mac/cpu/tensorflow-1.8.0-py3-none-any.whl"
      ]
    },
    {
      "cell_type": "code",
      "execution_count": 5,
      "metadata": {},
      "outputs": [
        {
          "name": "stdout",
          "output_type": "stream",
          "text": [
            "Requirement already satisfied: pandas in c:\\users\\bryan\\appdata\\local\\programs\\python\\python310\\lib\\site-packages (2.2.0)\n",
            "Requirement already satisfied: numpy<2,>=1.22.4 in c:\\users\\bryan\\appdata\\local\\programs\\python\\python310\\lib\\site-packages (from pandas) (1.26.4)\n",
            "Requirement already satisfied: python-dateutil>=2.8.2 in c:\\users\\bryan\\appdata\\roaming\\python\\python310\\site-packages (from pandas) (2.8.2)\n",
            "Requirement already satisfied: pytz>=2020.1 in c:\\users\\bryan\\appdata\\local\\programs\\python\\python310\\lib\\site-packages (from pandas) (2024.1)\n",
            "Requirement already satisfied: tzdata>=2022.7 in c:\\users\\bryan\\appdata\\local\\programs\\python\\python310\\lib\\site-packages (from pandas) (2024.1)\n",
            "Requirement already satisfied: six>=1.5 in c:\\users\\bryan\\appdata\\roaming\\python\\python310\\site-packages (from python-dateutil>=2.8.2->pandas) (1.16.0)\n",
            "Note: you may need to restart the kernel to use updated packages.\n"
          ]
        },
        {
          "name": "stderr",
          "output_type": "stream",
          "text": [
            "WARNING: Ignoring invalid distribution -ensorboard (c:\\users\\bryan\\appdata\\local\\programs\\python\\python310\\lib\\site-packages)\n",
            "WARNING: Ignoring invalid distribution -rotobuf (c:\\users\\bryan\\appdata\\local\\programs\\python\\python310\\lib\\site-packages)\n",
            "WARNING: Ignoring invalid distribution -ensorboard (c:\\users\\bryan\\appdata\\local\\programs\\python\\python310\\lib\\site-packages)\n",
            "WARNING: Ignoring invalid distribution -rotobuf (c:\\users\\bryan\\appdata\\local\\programs\\python\\python310\\lib\\site-packages)\n"
          ]
        }
      ],
      "source": [
        "pip install pandas"
      ]
    },
    {
      "cell_type": "code",
      "execution_count": 6,
      "metadata": {},
      "outputs": [
        {
          "name": "stdout",
          "output_type": "stream",
          "text": [
            "Collecting tf-models-official==2.13.*Note: you may need to restart the kernel to use updated packages.\n",
            "\n",
            "  Using cached tf_models_official-2.13.2-py2.py3-none-any.whl.metadata (1.4 kB)\n",
            "Requirement already satisfied: Cython in c:\\users\\bryan\\appdata\\local\\programs\\python\\python310\\lib\\site-packages (from tf-models-official==2.13.*) (3.0.8)\n",
            "Requirement already satisfied: Pillow in c:\\users\\bryan\\appdata\\local\\programs\\python\\python310\\lib\\site-packages (from tf-models-official==2.13.*) (10.2.0)\n",
            "Requirement already satisfied: gin-config in c:\\users\\bryan\\appdata\\local\\programs\\python\\python310\\lib\\site-packages (from tf-models-official==2.13.*) (0.5.0)\n",
            "Requirement already satisfied: google-api-python-client>=1.6.7 in c:\\users\\bryan\\appdata\\local\\programs\\python\\python310\\lib\\site-packages (from tf-models-official==2.13.*) (2.118.0)\n",
            "Requirement already satisfied: immutabledict in c:\\users\\bryan\\appdata\\local\\programs\\python\\python310\\lib\\site-packages (from tf-models-official==2.13.*) (4.1.0)\n",
            "Requirement already satisfied: kaggle>=1.3.9 in c:\\users\\bryan\\appdata\\local\\programs\\python\\python310\\lib\\site-packages (from tf-models-official==2.13.*) (1.6.6)\n",
            "Requirement already satisfied: matplotlib in c:\\users\\bryan\\appdata\\local\\programs\\python\\python310\\lib\\site-packages (from tf-models-official==2.13.*) (3.8.3)\n",
            "Requirement already satisfied: numpy>=1.20 in c:\\users\\bryan\\appdata\\local\\programs\\python\\python310\\lib\\site-packages (from tf-models-official==2.13.*) (1.26.4)\n",
            "Requirement already satisfied: oauth2client in c:\\users\\bryan\\appdata\\local\\programs\\python\\python310\\lib\\site-packages (from tf-models-official==2.13.*) (4.1.3)\n",
            "Requirement already satisfied: opencv-python-headless in c:\\users\\bryan\\appdata\\local\\programs\\python\\python310\\lib\\site-packages (from tf-models-official==2.13.*) (4.9.0.80)\n",
            "Requirement already satisfied: pandas>=0.22.0 in c:\\users\\bryan\\appdata\\local\\programs\\python\\python310\\lib\\site-packages (from tf-models-official==2.13.*) (2.2.0)\n",
            "Requirement already satisfied: psutil>=5.4.3 in c:\\users\\bryan\\appdata\\roaming\\python\\python310\\site-packages (from tf-models-official==2.13.*) (5.9.8)\n",
            "Requirement already satisfied: py-cpuinfo>=3.3.0 in c:\\users\\bryan\\appdata\\local\\programs\\python\\python310\\lib\\site-packages (from tf-models-official==2.13.*) (9.0.0)\n",
            "Requirement already satisfied: pycocotools in c:\\users\\bryan\\appdata\\local\\programs\\python\\python310\\lib\\site-packages (from tf-models-official==2.13.*) (2.0.7)\n",
            "Collecting pyyaml>=6.0.0 (from tf-models-official==2.13.*)\n",
            "  Using cached PyYAML-6.0.1-cp310-cp310-win_amd64.whl.metadata (2.1 kB)\n",
            "Requirement already satisfied: sacrebleu in c:\\users\\bryan\\appdata\\local\\programs\\python\\python310\\lib\\site-packages (from tf-models-official==2.13.*) (2.2.0)\n",
            "Requirement already satisfied: scipy>=0.19.1 in c:\\users\\bryan\\appdata\\local\\programs\\python\\python310\\lib\\site-packages (from tf-models-official==2.13.*) (1.12.0)\n",
            "Requirement already satisfied: sentencepiece in c:\\users\\bryan\\appdata\\local\\programs\\python\\python310\\lib\\site-packages (from tf-models-official==2.13.*) (0.2.0)\n",
            "Requirement already satisfied: seqeval in c:\\users\\bryan\\appdata\\local\\programs\\python\\python310\\lib\\site-packages (from tf-models-official==2.13.*) (1.2.2)\n",
            "Requirement already satisfied: six in c:\\users\\bryan\\appdata\\roaming\\python\\python310\\site-packages (from tf-models-official==2.13.*) (1.16.0)\n",
            "Requirement already satisfied: tensorflow-datasets in c:\\users\\bryan\\appdata\\local\\programs\\python\\python310\\lib\\site-packages (from tf-models-official==2.13.*) (4.9.0)\n",
            "Requirement already satisfied: tensorflow-hub>=0.6.0 in c:\\users\\bryan\\appdata\\local\\programs\\python\\python310\\lib\\site-packages (from tf-models-official==2.13.*) (0.16.1)\n",
            "Requirement already satisfied: tensorflow-model-optimization>=0.4.1 in c:\\users\\bryan\\appdata\\local\\programs\\python\\python310\\lib\\site-packages (from tf-models-official==2.13.*) (0.8.0)\n",
            "INFO: pip is looking at multiple versions of tf-models-official to determine which version is compatible with other requirements. This could take a while.\n",
            "Collecting tf-models-official==2.13.*\n",
            "  Using cached tf_models_official-2.13.1-py2.py3-none-any.whl.metadata (1.4 kB)\n",
            "Requirement already satisfied: pyyaml<5.4.0,>=5.1 in c:\\users\\bryan\\appdata\\local\\programs\\python\\python310\\lib\\site-packages (from tf-models-official==2.13.*) (5.3.1)\n",
            "  Using cached tf_models_official-2.13.0-py2.py3-none-any.whl.metadata (1.4 kB)\n",
            "\n",
            "The conflict is caused by:\n",
            "    tf-models-official 2.13.2 depends on tensorflow-text~=2.13.0\n",
            "    tf-models-official 2.13.1 depends on tensorflow-text~=2.13.0\n",
            "    tf-models-official 2.13.0 depends on tensorflow-text~=2.13.0\n",
            "\n",
            "To fix this you could try to:\n",
            "1. loosen the range of package versions you've specified\n",
            "2. remove package versions to allow pip attempt to solve the dependency conflict\n",
            "\n"
          ]
        },
        {
          "name": "stderr",
          "output_type": "stream",
          "text": [
            "WARNING: Ignoring invalid distribution -ensorboard (c:\\users\\bryan\\appdata\\local\\programs\\python\\python310\\lib\\site-packages)\n",
            "WARNING: Ignoring invalid distribution -rotobuf (c:\\users\\bryan\\appdata\\local\\programs\\python\\python310\\lib\\site-packages)\n",
            "ERROR: Cannot install tf-models-official==2.13.0, tf-models-official==2.13.1 and tf-models-official==2.13.2 because these package versions have conflicting dependencies.\n",
            "ERROR: ResolutionImpossible: for help visit https://pip.pypa.io/en/latest/topics/dependency-resolution/#dealing-with-dependency-conflicts\n"
          ]
        }
      ],
      "source": [
        "pip install \"tf-models-official==2.13.*\""
      ]
    },
    {
      "cell_type": "code",
      "execution_count": 7,
      "metadata": {},
      "outputs": [
        {
          "name": "stdout",
          "output_type": "stream",
          "text": [
            "Requirement already satisfied: tensorflow_hub in c:\\users\\bryan\\appdata\\local\\programs\\python\\python310\\lib\\site-packages (0.16.1)\n",
            "Requirement already satisfied: numpy>=1.12.0 in c:\\users\\bryan\\appdata\\local\\programs\\python\\python310\\lib\\site-packages (from tensorflow_hub) (1.26.4)\n",
            "Requirement already satisfied: protobuf>=3.19.6 in c:\\users\\bryan\\appdata\\local\\programs\\python\\python310\\lib\\site-packages (from tensorflow_hub) (3.19.6)\n",
            "Requirement already satisfied: tf-keras>=2.14.1 in c:\\users\\bryan\\appdata\\local\\programs\\python\\python310\\lib\\site-packages (from tensorflow_hub) (2.15.0)\n",
            "Note: you may need to restart the kernel to use updated packages.\n"
          ]
        },
        {
          "name": "stderr",
          "output_type": "stream",
          "text": [
            "WARNING: Ignoring invalid distribution -ensorboard (c:\\users\\bryan\\appdata\\local\\programs\\python\\python310\\lib\\site-packages)\n",
            "WARNING: Ignoring invalid distribution -rotobuf (c:\\users\\bryan\\appdata\\local\\programs\\python\\python310\\lib\\site-packages)\n",
            "WARNING: Ignoring invalid distribution -ensorboard (c:\\users\\bryan\\appdata\\local\\programs\\python\\python310\\lib\\site-packages)\n",
            "WARNING: Ignoring invalid distribution -rotobuf (c:\\users\\bryan\\appdata\\local\\programs\\python\\python310\\lib\\site-packages)\n"
          ]
        }
      ],
      "source": [
        "pip install tensorflow_hub"
      ]
    },
    {
      "cell_type": "code",
      "execution_count": 8,
      "metadata": {},
      "outputs": [
        {
          "name": "stdout",
          "output_type": "stream",
          "text": [
            "Requirement already satisfied: tensorflow-text in c:\\users\\bryan\\appdata\\local\\programs\\python\\python310\\lib\\site-packages (2.10.0)\n",
            "Requirement already satisfied: tensorflow-hub>=0.8.0 in c:\\users\\bryan\\appdata\\local\\programs\\python\\python310\\lib\\site-packages (from tensorflow-text) (0.16.1)\n",
            "Collecting tensorflow<2.11,>=2.10.0 (from tensorflow-text)\n",
            "  Using cached tensorflow-2.10.1-cp310-cp310-win_amd64.whl.metadata (3.1 kB)\n",
            "Requirement already satisfied: absl-py>=1.0.0 in c:\\users\\bryan\\appdata\\local\\programs\\python\\python310\\lib\\site-packages (from tensorflow<2.11,>=2.10.0->tensorflow-text) (1.4.0)\n",
            "Requirement already satisfied: astunparse>=1.6.0 in c:\\users\\bryan\\appdata\\local\\programs\\python\\python310\\lib\\site-packages (from tensorflow<2.11,>=2.10.0->tensorflow-text) (1.6.3)\n",
            "Requirement already satisfied: flatbuffers>=2.0 in c:\\users\\bryan\\appdata\\local\\programs\\python\\python310\\lib\\site-packages (from tensorflow<2.11,>=2.10.0->tensorflow-text) (23.5.26)\n",
            "Requirement already satisfied: gast<=0.4.0,>=0.2.1 in c:\\users\\bryan\\appdata\\local\\programs\\python\\python310\\lib\\site-packages (from tensorflow<2.11,>=2.10.0->tensorflow-text) (0.4.0)\n",
            "Requirement already satisfied: google-pasta>=0.1.1 in c:\\users\\bryan\\appdata\\local\\programs\\python\\python310\\lib\\site-packages (from tensorflow<2.11,>=2.10.0->tensorflow-text) (0.2.0)\n",
            "Requirement already satisfied: h5py>=2.9.0 in c:\\users\\bryan\\appdata\\local\\programs\\python\\python310\\lib\\site-packages (from tensorflow<2.11,>=2.10.0->tensorflow-text) (3.10.0)\n",
            "Requirement already satisfied: keras-preprocessing>=1.1.1 in c:\\users\\bryan\\appdata\\local\\programs\\python\\python310\\lib\\site-packages (from tensorflow<2.11,>=2.10.0->tensorflow-text) (1.1.2)\n",
            "Requirement already satisfied: libclang>=13.0.0 in c:\\users\\bryan\\appdata\\local\\programs\\python\\python310\\lib\\site-packages (from tensorflow<2.11,>=2.10.0->tensorflow-text) (16.0.6)\n",
            "Requirement already satisfied: numpy>=1.20 in c:\\users\\bryan\\appdata\\local\\programs\\python\\python310\\lib\\site-packages (from tensorflow<2.11,>=2.10.0->tensorflow-text) (1.26.4)\n",
            "Requirement already satisfied: opt-einsum>=2.3.2 in c:\\users\\bryan\\appdata\\local\\programs\\python\\python310\\lib\\site-packages (from tensorflow<2.11,>=2.10.0->tensorflow-text) (3.3.0)\n",
            "Requirement already satisfied: packaging in c:\\users\\bryan\\appdata\\roaming\\python\\python310\\site-packages (from tensorflow<2.11,>=2.10.0->tensorflow-text) (23.2)\n",
            "Requirement already satisfied: protobuf<3.20,>=3.9.2 in c:\\users\\bryan\\appdata\\local\\programs\\python\\python310\\lib\\site-packages (from tensorflow<2.11,>=2.10.0->tensorflow-text) (3.19.6)\n",
            "Requirement already satisfied: setuptools in c:\\users\\bryan\\appdata\\local\\programs\\python\\python310\\lib\\site-packages (from tensorflow<2.11,>=2.10.0->tensorflow-text) (58.1.0)\n",
            "Requirement already satisfied: six>=1.12.0 in c:\\users\\bryan\\appdata\\roaming\\python\\python310\\site-packages (from tensorflow<2.11,>=2.10.0->tensorflow-text) (1.16.0)\n",
            "Requirement already satisfied: termcolor>=1.1.0 in c:\\users\\bryan\\appdata\\local\\programs\\python\\python310\\lib\\site-packages (from tensorflow<2.11,>=2.10.0->tensorflow-text) (2.4.0)\n",
            "Requirement already satisfied: typing-extensions>=3.6.6 in c:\\users\\bryan\\appdata\\local\\programs\\python\\python310\\lib\\site-packages (from tensorflow<2.11,>=2.10.0->tensorflow-text) (4.9.0)\n",
            "Requirement already satisfied: wrapt>=1.11.0 in c:\\users\\bryan\\appdata\\local\\programs\\python\\python310\\lib\\site-packages (from tensorflow<2.11,>=2.10.0->tensorflow-text) (1.14.1)\n",
            "Requirement already satisfied: tensorflow-io-gcs-filesystem>=0.23.1 in c:\\users\\bryan\\appdata\\local\\programs\\python\\python310\\lib\\site-packages (from tensorflow<2.11,>=2.10.0->tensorflow-text) (0.31.0)\n",
            "Requirement already satisfied: grpcio<2.0,>=1.24.3 in c:\\users\\bryan\\appdata\\local\\programs\\python\\python310\\lib\\site-packages (from tensorflow<2.11,>=2.10.0->tensorflow-text) (1.60.1)\n",
            "Collecting tensorboard<2.11,>=2.10 (from tensorflow<2.11,>=2.10.0->tensorflow-text)\n",
            "  Using cached tensorboard-2.10.1-py3-none-any.whl.metadata (1.9 kB)\n",
            "Requirement already satisfied: tensorflow-estimator<2.11,>=2.10.0 in c:\\users\\bryan\\appdata\\local\\programs\\python\\python310\\lib\\site-packages (from tensorflow<2.11,>=2.10.0->tensorflow-text) (2.10.0)\n",
            "Requirement already satisfied: keras<2.11,>=2.10.0 in c:\\users\\bryan\\appdata\\local\\programs\\python\\python310\\lib\\site-packages (from tensorflow<2.11,>=2.10.0->tensorflow-text) (2.10.0)\n",
            "Requirement already satisfied: tf-keras>=2.14.1 in c:\\users\\bryan\\appdata\\local\\programs\\python\\python310\\lib\\site-packages (from tensorflow-hub>=0.8.0->tensorflow-text) (2.15.0)\n",
            "Requirement already satisfied: wheel<1.0,>=0.23.0 in c:\\users\\bryan\\appdata\\local\\programs\\python\\python310\\lib\\site-packages (from astunparse>=1.6.0->tensorflow<2.11,>=2.10.0->tensorflow-text) (0.42.0)\n",
            "Requirement already satisfied: google-auth<3,>=1.6.3 in c:\\users\\bryan\\appdata\\local\\programs\\python\\python310\\lib\\site-packages (from tensorboard<2.11,>=2.10->tensorflow<2.11,>=2.10.0->tensorflow-text) (2.28.0)\n",
            "Requirement already satisfied: google-auth-oauthlib<0.5,>=0.4.1 in c:\\users\\bryan\\appdata\\local\\programs\\python\\python310\\lib\\site-packages (from tensorboard<2.11,>=2.10->tensorflow<2.11,>=2.10.0->tensorflow-text) (0.4.6)\n",
            "Requirement already satisfied: markdown>=2.6.8 in c:\\users\\bryan\\appdata\\local\\programs\\python\\python310\\lib\\site-packages (from tensorboard<2.11,>=2.10->tensorflow<2.11,>=2.10.0->tensorflow-text) (3.5.2)\n",
            "Requirement already satisfied: requests<3,>=2.21.0 in c:\\users\\bryan\\appdata\\local\\programs\\python\\python310\\lib\\site-packages (from tensorboard<2.11,>=2.10->tensorflow<2.11,>=2.10.0->tensorflow-text) (2.31.0)\n",
            "Requirement already satisfied: tensorboard-data-server<0.7.0,>=0.6.0 in c:\\users\\bryan\\appdata\\local\\programs\\python\\python310\\lib\\site-packages (from tensorboard<2.11,>=2.10->tensorflow<2.11,>=2.10.0->tensorflow-text) (0.6.1)\n",
            "Requirement already satisfied: tensorboard-plugin-wit>=1.6.0 in c:\\users\\bryan\\appdata\\local\\programs\\python\\python310\\lib\\site-packages (from tensorboard<2.11,>=2.10->tensorflow<2.11,>=2.10.0->tensorflow-text) (1.8.1)\n",
            "Requirement already satisfied: werkzeug>=1.0.1 in c:\\users\\bryan\\appdata\\local\\programs\\python\\python310\\lib\\site-packages (from tensorboard<2.11,>=2.10->tensorflow<2.11,>=2.10.0->tensorflow-text) (3.0.1)\n",
            "Requirement already satisfied: cachetools<6.0,>=2.0.0 in c:\\users\\bryan\\appdata\\local\\programs\\python\\python310\\lib\\site-packages (from google-auth<3,>=1.6.3->tensorboard<2.11,>=2.10->tensorflow<2.11,>=2.10.0->tensorflow-text) (5.3.2)\n",
            "Requirement already satisfied: pyasn1-modules>=0.2.1 in c:\\users\\bryan\\appdata\\local\\programs\\python\\python310\\lib\\site-packages (from google-auth<3,>=1.6.3->tensorboard<2.11,>=2.10->tensorflow<2.11,>=2.10.0->tensorflow-text) (0.3.0)\n",
            "Requirement already satisfied: rsa<5,>=3.1.4 in c:\\users\\bryan\\appdata\\local\\programs\\python\\python310\\lib\\site-packages (from google-auth<3,>=1.6.3->tensorboard<2.11,>=2.10->tensorflow<2.11,>=2.10.0->tensorflow-text) (4.9)\n",
            "Requirement already satisfied: requests-oauthlib>=0.7.0 in c:\\users\\bryan\\appdata\\local\\programs\\python\\python310\\lib\\site-packages (from google-auth-oauthlib<0.5,>=0.4.1->tensorboard<2.11,>=2.10->tensorflow<2.11,>=2.10.0->tensorflow-text) (1.3.1)\n",
            "Requirement already satisfied: charset-normalizer<4,>=2 in c:\\users\\bryan\\appdata\\local\\programs\\python\\python310\\lib\\site-packages (from requests<3,>=2.21.0->tensorboard<2.11,>=2.10->tensorflow<2.11,>=2.10.0->tensorflow-text) (3.3.2)\n",
            "Requirement already satisfied: idna<4,>=2.5 in c:\\users\\bryan\\appdata\\local\\programs\\python\\python310\\lib\\site-packages (from requests<3,>=2.21.0->tensorboard<2.11,>=2.10->tensorflow<2.11,>=2.10.0->tensorflow-text) (3.6)\n",
            "Requirement already satisfied: urllib3<3,>=1.21.1 in c:\\users\\bryan\\appdata\\local\\programs\\python\\python310\\lib\\site-packages (from requests<3,>=2.21.0->tensorboard<2.11,>=2.10->tensorflow<2.11,>=2.10.0->tensorflow-text) (2.2.1)\n",
            "Requirement already satisfied: certifi>=2017.4.17 in c:\\users\\bryan\\appdata\\local\\programs\\python\\python310\\lib\\site-packages (from requests<3,>=2.21.0->tensorboard<2.11,>=2.10->tensorflow<2.11,>=2.10.0->tensorflow-text) (2024.2.2)\n",
            "Requirement already satisfied: MarkupSafe>=2.1.1 in c:\\users\\bryan\\appdata\\local\\programs\\python\\python310\\lib\\site-packages (from werkzeug>=1.0.1->tensorboard<2.11,>=2.10->tensorflow<2.11,>=2.10.0->tensorflow-text) (2.1.5)\n",
            "Requirement already satisfied: pyasn1<0.6.0,>=0.4.6 in c:\\users\\bryan\\appdata\\local\\programs\\python\\python310\\lib\\site-packages (from pyasn1-modules>=0.2.1->google-auth<3,>=1.6.3->tensorboard<2.11,>=2.10->tensorflow<2.11,>=2.10.0->tensorflow-text) (0.5.1)\n",
            "Requirement already satisfied: oauthlib>=3.0.0 in c:\\users\\bryan\\appdata\\local\\programs\\python\\python310\\lib\\site-packages (from requests-oauthlib>=0.7.0->google-auth-oauthlib<0.5,>=0.4.1->tensorboard<2.11,>=2.10->tensorflow<2.11,>=2.10.0->tensorflow-text) (3.2.2)\n",
            "Using cached tensorflow-2.10.1-cp310-cp310-win_amd64.whl (455.9 MB)\n",
            "Using cached tensorboard-2.10.1-py3-none-any.whl (5.9 MB)\n",
            "Installing collected packages: tensorboard, tensorflow\n",
            "  Attempting uninstall: tensorboard\n",
            "    Found existing installation: tensorboard 1.8.0\n",
            "    Uninstalling tensorboard-1.8.0:\n",
            "      Successfully uninstalled tensorboard-1.8.0\n",
            "  Attempting uninstall: tensorflow\n",
            "    Found existing installation: tensorflow 1.8.0\n",
            "    Uninstalling tensorflow-1.8.0:\n",
            "      Successfully uninstalled tensorflow-1.8.0\n",
            "Successfully installed tensorboard-2.10.1 tensorflow-2.10.1\n",
            "Note: you may need to restart the kernel to use updated packages.\n"
          ]
        },
        {
          "name": "stderr",
          "output_type": "stream",
          "text": [
            "WARNING: Ignoring invalid distribution -ensorboard (c:\\users\\bryan\\appdata\\local\\programs\\python\\python310\\lib\\site-packages)\n",
            "WARNING: Ignoring invalid distribution -rotobuf (c:\\users\\bryan\\appdata\\local\\programs\\python\\python310\\lib\\site-packages)\n",
            "WARNING: Ignoring invalid distribution -ensorboard (c:\\users\\bryan\\appdata\\local\\programs\\python\\python310\\lib\\site-packages)\n",
            "WARNING: Ignoring invalid distribution -rotobuf (c:\\users\\bryan\\appdata\\local\\programs\\python\\python310\\lib\\site-packages)\n",
            "  WARNING: The script tensorboard.exe is installed in 'c:\\Users\\Bryan\\AppData\\Local\\Programs\\Python\\Python310\\Scripts' which is not on PATH.\n",
            "  Consider adding this directory to PATH or, if you prefer to suppress this warning, use --no-warn-script-location.\n",
            "  WARNING: The scripts estimator_ckpt_converter.exe, import_pb_to_tensorboard.exe, saved_model_cli.exe, tensorboard.exe, tf_upgrade_v2.exe, tflite_convert.exe, toco.exe and toco_from_protos.exe are installed in 'c:\\Users\\Bryan\\AppData\\Local\\Programs\\Python\\Python310\\Scripts' which is not on PATH.\n",
            "  Consider adding this directory to PATH or, if you prefer to suppress this warning, use --no-warn-script-location.\n"
          ]
        }
      ],
      "source": [
        "pip install tensorflow-text"
      ]
    },
    {
      "cell_type": "code",
      "execution_count": 9,
      "metadata": {},
      "outputs": [
        {
          "name": "stdout",
          "output_type": "stream",
          "text": [
            "Requirement already satisfied: tf-models-official in c:\\users\\bryan\\appdata\\local\\programs\\python\\python310\\lib\\site-packages (2.10.1)\n",
            "Requirement already satisfied: Cython in c:\\users\\bryan\\appdata\\local\\programs\\python\\python310\\lib\\site-packages (from tf-models-official) (3.0.8)\n",
            "Requirement already satisfied: Pillow in c:\\users\\bryan\\appdata\\local\\programs\\python\\python310\\lib\\site-packages (from tf-models-official) (10.2.0)\n",
            "Requirement already satisfied: gin-config in c:\\users\\bryan\\appdata\\local\\programs\\python\\python310\\lib\\site-packages (from tf-models-official) (0.5.0)\n",
            "Requirement already satisfied: google-api-python-client>=1.6.7 in c:\\users\\bryan\\appdata\\local\\programs\\python\\python310\\lib\\site-packages (from tf-models-official) (2.118.0)\n",
            "Requirement already satisfied: immutabledict in c:\\users\\bryan\\appdata\\local\\programs\\python\\python310\\lib\\site-packages (from tf-models-official) (4.1.0)\n",
            "Requirement already satisfied: kaggle>=1.3.9 in c:\\users\\bryan\\appdata\\local\\programs\\python\\python310\\lib\\site-packages (from tf-models-official) (1.6.6)\n",
            "Requirement already satisfied: matplotlib in c:\\users\\bryan\\appdata\\local\\programs\\python\\python310\\lib\\site-packages (from tf-models-official) (3.8.3)\n",
            "Requirement already satisfied: numpy>=1.20 in c:\\users\\bryan\\appdata\\local\\programs\\python\\python310\\lib\\site-packages (from tf-models-official) (1.26.4)\n",
            "Requirement already satisfied: oauth2client in c:\\users\\bryan\\appdata\\local\\programs\\python\\python310\\lib\\site-packages (from tf-models-official) (4.1.3)\n",
            "Requirement already satisfied: opencv-python-headless in c:\\users\\bryan\\appdata\\local\\programs\\python\\python310\\lib\\site-packages (from tf-models-official) (4.9.0.80)\n",
            "Requirement already satisfied: pandas>=0.22.0 in c:\\users\\bryan\\appdata\\local\\programs\\python\\python310\\lib\\site-packages (from tf-models-official) (2.2.0)\n",
            "Requirement already satisfied: psutil>=5.4.3 in c:\\users\\bryan\\appdata\\roaming\\python\\python310\\site-packages (from tf-models-official) (5.9.8)\n",
            "Requirement already satisfied: py-cpuinfo>=3.3.0 in c:\\users\\bryan\\appdata\\local\\programs\\python\\python310\\lib\\site-packages (from tf-models-official) (9.0.0)\n",
            "Requirement already satisfied: pycocotools in c:\\users\\bryan\\appdata\\local\\programs\\python\\python310\\lib\\site-packages (from tf-models-official) (2.0.7)\n",
            "Requirement already satisfied: pyyaml<6.0,>=5.1 in c:\\users\\bryan\\appdata\\local\\programs\\python\\python310\\lib\\site-packages (from tf-models-official) (5.3.1)\n",
            "Requirement already satisfied: sacrebleu==2.2.0 in c:\\users\\bryan\\appdata\\local\\programs\\python\\python310\\lib\\site-packages (from tf-models-official) (2.2.0)\n",
            "Requirement already satisfied: scipy>=0.19.1 in c:\\users\\bryan\\appdata\\local\\programs\\python\\python310\\lib\\site-packages (from tf-models-official) (1.12.0)\n",
            "Requirement already satisfied: sentencepiece in c:\\users\\bryan\\appdata\\local\\programs\\python\\python310\\lib\\site-packages (from tf-models-official) (0.2.0)\n",
            "Requirement already satisfied: seqeval in c:\\users\\bryan\\appdata\\local\\programs\\python\\python310\\lib\\site-packages (from tf-models-official) (1.2.2)\n",
            "Requirement already satisfied: six in c:\\users\\bryan\\appdata\\roaming\\python\\python310\\site-packages (from tf-models-official) (1.16.0)\n",
            "Requirement already satisfied: tensorflow-addons in c:\\users\\bryan\\appdata\\local\\programs\\python\\python310\\lib\\site-packages (from tf-models-official) (0.22.0)\n",
            "Requirement already satisfied: tensorflow-datasets in c:\\users\\bryan\\appdata\\local\\programs\\python\\python310\\lib\\site-packages (from tf-models-official) (4.9.0)\n",
            "Requirement already satisfied: tensorflow-hub>=0.6.0 in c:\\users\\bryan\\appdata\\local\\programs\\python\\python310\\lib\\site-packages (from tf-models-official) (0.16.1)\n",
            "Requirement already satisfied: tensorflow-model-optimization>=0.4.1 in c:\\users\\bryan\\appdata\\local\\programs\\python\\python310\\lib\\site-packages (from tf-models-official) (0.8.0)\n",
            "Requirement already satisfied: tensorflow-text~=2.10.0 in c:\\users\\bryan\\appdata\\local\\programs\\python\\python310\\lib\\site-packages (from tf-models-official) (2.10.0)\n",
            "Requirement already satisfied: tensorflow~=2.10.0 in c:\\users\\bryan\\appdata\\local\\programs\\python\\python310\\lib\\site-packages (from tf-models-official) (2.10.1)\n",
            "Requirement already satisfied: tf-slim>=1.1.0 in c:\\users\\bryan\\appdata\\local\\programs\\python\\python310\\lib\\site-packages (from tf-models-official) (1.1.0)\n",
            "Requirement already satisfied: portalocker in c:\\users\\bryan\\appdata\\local\\programs\\python\\python310\\lib\\site-packages (from sacrebleu==2.2.0->tf-models-official) (2.8.2)\n",
            "Requirement already satisfied: regex in c:\\users\\bryan\\appdata\\local\\programs\\python\\python310\\lib\\site-packages (from sacrebleu==2.2.0->tf-models-official) (2023.12.25)\n",
            "Requirement already satisfied: tabulate>=0.8.9 in c:\\users\\bryan\\appdata\\local\\programs\\python\\python310\\lib\\site-packages (from sacrebleu==2.2.0->tf-models-official) (0.9.0)\n",
            "Requirement already satisfied: colorama in c:\\users\\bryan\\appdata\\roaming\\python\\python310\\site-packages (from sacrebleu==2.2.0->tf-models-official) (0.4.6)\n",
            "Requirement already satisfied: lxml in c:\\users\\bryan\\appdata\\local\\programs\\python\\python310\\lib\\site-packages (from sacrebleu==2.2.0->tf-models-official) (5.1.0)\n",
            "Requirement already satisfied: httplib2<1.dev0,>=0.15.0 in c:\\users\\bryan\\appdata\\local\\programs\\python\\python310\\lib\\site-packages (from google-api-python-client>=1.6.7->tf-models-official) (0.22.0)\n",
            "Requirement already satisfied: google-auth<3.0.0.dev0,>=1.19.0 in c:\\users\\bryan\\appdata\\local\\programs\\python\\python310\\lib\\site-packages (from google-api-python-client>=1.6.7->tf-models-official) (2.28.0)\n",
            "Requirement already satisfied: google-auth-httplib2>=0.1.0 in c:\\users\\bryan\\appdata\\local\\programs\\python\\python310\\lib\\site-packages (from google-api-python-client>=1.6.7->tf-models-official) (0.2.0)\n",
            "Requirement already satisfied: google-api-core!=2.0.*,!=2.1.*,!=2.2.*,!=2.3.0,<3.0.0.dev0,>=1.31.5 in c:\\users\\bryan\\appdata\\local\\programs\\python\\python310\\lib\\site-packages (from google-api-python-client>=1.6.7->tf-models-official) (2.17.1)\n",
            "Requirement already satisfied: uritemplate<5,>=3.0.1 in c:\\users\\bryan\\appdata\\local\\programs\\python\\python310\\lib\\site-packages (from google-api-python-client>=1.6.7->tf-models-official) (4.1.1)\n",
            "Requirement already satisfied: certifi in c:\\users\\bryan\\appdata\\local\\programs\\python\\python310\\lib\\site-packages (from kaggle>=1.3.9->tf-models-official) (2024.2.2)\n",
            "Requirement already satisfied: python-dateutil in c:\\users\\bryan\\appdata\\roaming\\python\\python310\\site-packages (from kaggle>=1.3.9->tf-models-official) (2.8.2)\n",
            "Requirement already satisfied: requests in c:\\users\\bryan\\appdata\\local\\programs\\python\\python310\\lib\\site-packages (from kaggle>=1.3.9->tf-models-official) (2.31.0)\n",
            "Requirement already satisfied: tqdm in c:\\users\\bryan\\appdata\\local\\programs\\python\\python310\\lib\\site-packages (from kaggle>=1.3.9->tf-models-official) (4.66.2)\n",
            "Requirement already satisfied: python-slugify in c:\\users\\bryan\\appdata\\local\\programs\\python\\python310\\lib\\site-packages (from kaggle>=1.3.9->tf-models-official) (8.0.4)\n",
            "Requirement already satisfied: urllib3 in c:\\users\\bryan\\appdata\\local\\programs\\python\\python310\\lib\\site-packages (from kaggle>=1.3.9->tf-models-official) (2.2.1)\n",
            "Requirement already satisfied: bleach in c:\\users\\bryan\\appdata\\local\\programs\\python\\python310\\lib\\site-packages (from kaggle>=1.3.9->tf-models-official) (1.5.0)\n",
            "Requirement already satisfied: pytz>=2020.1 in c:\\users\\bryan\\appdata\\local\\programs\\python\\python310\\lib\\site-packages (from pandas>=0.22.0->tf-models-official) (2024.1)\n",
            "Requirement already satisfied: tzdata>=2022.7 in c:\\users\\bryan\\appdata\\local\\programs\\python\\python310\\lib\\site-packages (from pandas>=0.22.0->tf-models-official) (2024.1)\n",
            "Requirement already satisfied: absl-py>=1.0.0 in c:\\users\\bryan\\appdata\\local\\programs\\python\\python310\\lib\\site-packages (from tensorflow~=2.10.0->tf-models-official) (1.4.0)\n",
            "Requirement already satisfied: astunparse>=1.6.0 in c:\\users\\bryan\\appdata\\local\\programs\\python\\python310\\lib\\site-packages (from tensorflow~=2.10.0->tf-models-official) (1.6.3)\n",
            "Requirement already satisfied: flatbuffers>=2.0 in c:\\users\\bryan\\appdata\\local\\programs\\python\\python310\\lib\\site-packages (from tensorflow~=2.10.0->tf-models-official) (23.5.26)\n",
            "Requirement already satisfied: gast<=0.4.0,>=0.2.1 in c:\\users\\bryan\\appdata\\local\\programs\\python\\python310\\lib\\site-packages (from tensorflow~=2.10.0->tf-models-official) (0.4.0)\n",
            "Requirement already satisfied: google-pasta>=0.1.1 in c:\\users\\bryan\\appdata\\local\\programs\\python\\python310\\lib\\site-packages (from tensorflow~=2.10.0->tf-models-official) (0.2.0)\n",
            "Requirement already satisfied: h5py>=2.9.0 in c:\\users\\bryan\\appdata\\local\\programs\\python\\python310\\lib\\site-packages (from tensorflow~=2.10.0->tf-models-official) (3.10.0)\n",
            "Requirement already satisfied: keras-preprocessing>=1.1.1 in c:\\users\\bryan\\appdata\\local\\programs\\python\\python310\\lib\\site-packages (from tensorflow~=2.10.0->tf-models-official) (1.1.2)\n",
            "Requirement already satisfied: libclang>=13.0.0 in c:\\users\\bryan\\appdata\\local\\programs\\python\\python310\\lib\\site-packages (from tensorflow~=2.10.0->tf-models-official) (16.0.6)\n",
            "Requirement already satisfied: opt-einsum>=2.3.2 in c:\\users\\bryan\\appdata\\local\\programs\\python\\python310\\lib\\site-packages (from tensorflow~=2.10.0->tf-models-official) (3.3.0)\n",
            "Requirement already satisfied: packaging in c:\\users\\bryan\\appdata\\roaming\\python\\python310\\site-packages (from tensorflow~=2.10.0->tf-models-official) (23.2)\n",
            "Requirement already satisfied: protobuf<3.20,>=3.9.2 in c:\\users\\bryan\\appdata\\local\\programs\\python\\python310\\lib\\site-packages (from tensorflow~=2.10.0->tf-models-official) (3.19.6)\n",
            "Requirement already satisfied: setuptools in c:\\users\\bryan\\appdata\\local\\programs\\python\\python310\\lib\\site-packages (from tensorflow~=2.10.0->tf-models-official) (58.1.0)\n",
            "Requirement already satisfied: termcolor>=1.1.0 in c:\\users\\bryan\\appdata\\local\\programs\\python\\python310\\lib\\site-packages (from tensorflow~=2.10.0->tf-models-official) (2.4.0)\n",
            "Requirement already satisfied: typing-extensions>=3.6.6 in c:\\users\\bryan\\appdata\\local\\programs\\python\\python310\\lib\\site-packages (from tensorflow~=2.10.0->tf-models-official) (4.9.0)\n",
            "Requirement already satisfied: wrapt>=1.11.0 in c:\\users\\bryan\\appdata\\local\\programs\\python\\python310\\lib\\site-packages (from tensorflow~=2.10.0->tf-models-official) (1.14.1)\n",
            "Requirement already satisfied: tensorflow-io-gcs-filesystem>=0.23.1 in c:\\users\\bryan\\appdata\\local\\programs\\python\\python310\\lib\\site-packages (from tensorflow~=2.10.0->tf-models-official) (0.31.0)\n",
            "Requirement already satisfied: grpcio<2.0,>=1.24.3 in c:\\users\\bryan\\appdata\\local\\programs\\python\\python310\\lib\\site-packages (from tensorflow~=2.10.0->tf-models-official) (1.60.1)\n",
            "Requirement already satisfied: tensorboard<2.11,>=2.10 in c:\\users\\bryan\\appdata\\local\\programs\\python\\python310\\lib\\site-packages (from tensorflow~=2.10.0->tf-models-official) (2.10.1)\n",
            "Requirement already satisfied: tensorflow-estimator<2.11,>=2.10.0 in c:\\users\\bryan\\appdata\\local\\programs\\python\\python310\\lib\\site-packages (from tensorflow~=2.10.0->tf-models-official) (2.10.0)\n",
            "Requirement already satisfied: keras<2.11,>=2.10.0 in c:\\users\\bryan\\appdata\\local\\programs\\python\\python310\\lib\\site-packages (from tensorflow~=2.10.0->tf-models-official) (2.10.0)\n",
            "Requirement already satisfied: tf-keras>=2.14.1 in c:\\users\\bryan\\appdata\\local\\programs\\python\\python310\\lib\\site-packages (from tensorflow-hub>=0.6.0->tf-models-official) (2.15.0)\n",
            "Requirement already satisfied: dm-tree~=0.1.1 in c:\\users\\bryan\\appdata\\local\\programs\\python\\python310\\lib\\site-packages (from tensorflow-model-optimization>=0.4.1->tf-models-official) (0.1.8)\n",
            "Requirement already satisfied: contourpy>=1.0.1 in c:\\users\\bryan\\appdata\\local\\programs\\python\\python310\\lib\\site-packages (from matplotlib->tf-models-official) (1.2.0)\n",
            "Requirement already satisfied: cycler>=0.10 in c:\\users\\bryan\\appdata\\local\\programs\\python\\python310\\lib\\site-packages (from matplotlib->tf-models-official) (0.12.1)\n",
            "Requirement already satisfied: fonttools>=4.22.0 in c:\\users\\bryan\\appdata\\local\\programs\\python\\python310\\lib\\site-packages (from matplotlib->tf-models-official) (4.49.0)\n",
            "Requirement already satisfied: kiwisolver>=1.3.1 in c:\\users\\bryan\\appdata\\local\\programs\\python\\python310\\lib\\site-packages (from matplotlib->tf-models-official) (1.4.5)\n",
            "Requirement already satisfied: pyparsing>=2.3.1 in c:\\users\\bryan\\appdata\\local\\programs\\python\\python310\\lib\\site-packages (from matplotlib->tf-models-official) (3.1.1)\n",
            "Requirement already satisfied: pyasn1>=0.1.7 in c:\\users\\bryan\\appdata\\local\\programs\\python\\python310\\lib\\site-packages (from oauth2client->tf-models-official) (0.5.1)\n",
            "Requirement already satisfied: pyasn1-modules>=0.0.5 in c:\\users\\bryan\\appdata\\local\\programs\\python\\python310\\lib\\site-packages (from oauth2client->tf-models-official) (0.3.0)\n",
            "Requirement already satisfied: rsa>=3.1.4 in c:\\users\\bryan\\appdata\\local\\programs\\python\\python310\\lib\\site-packages (from oauth2client->tf-models-official) (4.9)\n",
            "Requirement already satisfied: scikit-learn>=0.21.3 in c:\\users\\bryan\\appdata\\local\\programs\\python\\python310\\lib\\site-packages (from seqeval->tf-models-official) (1.4.1.post1)\n",
            "Requirement already satisfied: typeguard<3.0.0,>=2.7 in c:\\users\\bryan\\appdata\\local\\programs\\python\\python310\\lib\\site-packages (from tensorflow-addons->tf-models-official) (2.13.3)\n",
            "Requirement already satisfied: array-record in c:\\users\\bryan\\appdata\\local\\programs\\python\\python310\\lib\\site-packages (from tensorflow-datasets->tf-models-official) (0.4.1)\n",
            "Requirement already satisfied: click in c:\\users\\bryan\\appdata\\local\\programs\\python\\python310\\lib\\site-packages (from tensorflow-datasets->tf-models-official) (8.1.7)\n",
            "Requirement already satisfied: etils>=0.9.0 in c:\\users\\bryan\\appdata\\local\\programs\\python\\python310\\lib\\site-packages (from etils[enp,epath]>=0.9.0->tensorflow-datasets->tf-models-official) (1.7.0)\n",
            "Requirement already satisfied: promise in c:\\users\\bryan\\appdata\\local\\programs\\python\\python310\\lib\\site-packages (from tensorflow-datasets->tf-models-official) (2.3)\n",
            "Requirement already satisfied: tensorflow-metadata in c:\\users\\bryan\\appdata\\local\\programs\\python\\python310\\lib\\site-packages (from tensorflow-datasets->tf-models-official) (1.13.0)\n",
            "Requirement already satisfied: toml in c:\\users\\bryan\\appdata\\local\\programs\\python\\python310\\lib\\site-packages (from tensorflow-datasets->tf-models-official) (0.10.2)\n",
            "Requirement already satisfied: wheel<1.0,>=0.23.0 in c:\\users\\bryan\\appdata\\local\\programs\\python\\python310\\lib\\site-packages (from astunparse>=1.6.0->tensorflow~=2.10.0->tf-models-official) (0.42.0)\n",
            "Requirement already satisfied: fsspec in c:\\users\\bryan\\appdata\\local\\programs\\python\\python310\\lib\\site-packages (from etils[enp,epath]>=0.9.0->tensorflow-datasets->tf-models-official) (2023.10.0)\n",
            "Requirement already satisfied: importlib_resources in c:\\users\\bryan\\appdata\\local\\programs\\python\\python310\\lib\\site-packages (from etils[enp,epath]>=0.9.0->tensorflow-datasets->tf-models-official) (6.1.1)\n",
            "Requirement already satisfied: zipp in c:\\users\\bryan\\appdata\\local\\programs\\python\\python310\\lib\\site-packages (from etils[enp,epath]>=0.9.0->tensorflow-datasets->tf-models-official) (3.17.0)\n",
            "Requirement already satisfied: googleapis-common-protos<2.0.dev0,>=1.56.2 in c:\\users\\bryan\\appdata\\local\\programs\\python\\python310\\lib\\site-packages (from google-api-core!=2.0.*,!=2.1.*,!=2.2.*,!=2.3.0,<3.0.0.dev0,>=1.31.5->google-api-python-client>=1.6.7->tf-models-official) (1.62.0)\n",
            "Requirement already satisfied: cachetools<6.0,>=2.0.0 in c:\\users\\bryan\\appdata\\local\\programs\\python\\python310\\lib\\site-packages (from google-auth<3.0.0.dev0,>=1.19.0->google-api-python-client>=1.6.7->tf-models-official) (5.3.2)\n",
            "Requirement already satisfied: charset-normalizer<4,>=2 in c:\\users\\bryan\\appdata\\local\\programs\\python\\python310\\lib\\site-packages (from requests->kaggle>=1.3.9->tf-models-official) (3.3.2)\n",
            "Requirement already satisfied: idna<4,>=2.5 in c:\\users\\bryan\\appdata\\local\\programs\\python\\python310\\lib\\site-packages (from requests->kaggle>=1.3.9->tf-models-official) (3.6)\n",
            "Requirement already satisfied: joblib>=1.2.0 in c:\\users\\bryan\\appdata\\local\\programs\\python\\python310\\lib\\site-packages (from scikit-learn>=0.21.3->seqeval->tf-models-official) (1.3.2)\n",
            "Requirement already satisfied: threadpoolctl>=2.0.0 in c:\\users\\bryan\\appdata\\local\\programs\\python\\python310\\lib\\site-packages (from scikit-learn>=0.21.3->seqeval->tf-models-official) (3.3.0)\n",
            "Requirement already satisfied: google-auth-oauthlib<0.5,>=0.4.1 in c:\\users\\bryan\\appdata\\local\\programs\\python\\python310\\lib\\site-packages (from tensorboard<2.11,>=2.10->tensorflow~=2.10.0->tf-models-official) (0.4.6)\n",
            "Requirement already satisfied: markdown>=2.6.8 in c:\\users\\bryan\\appdata\\local\\programs\\python\\python310\\lib\\site-packages (from tensorboard<2.11,>=2.10->tensorflow~=2.10.0->tf-models-official) (3.5.2)\n",
            "Requirement already satisfied: tensorboard-data-server<0.7.0,>=0.6.0 in c:\\users\\bryan\\appdata\\local\\programs\\python\\python310\\lib\\site-packages (from tensorboard<2.11,>=2.10->tensorflow~=2.10.0->tf-models-official) (0.6.1)\n",
            "Requirement already satisfied: tensorboard-plugin-wit>=1.6.0 in c:\\users\\bryan\\appdata\\local\\programs\\python\\python310\\lib\\site-packages (from tensorboard<2.11,>=2.10->tensorflow~=2.10.0->tf-models-official) (1.8.1)\n",
            "Requirement already satisfied: werkzeug>=1.0.1 in c:\\users\\bryan\\appdata\\local\\programs\\python\\python310\\lib\\site-packages (from tensorboard<2.11,>=2.10->tensorflow~=2.10.0->tf-models-official) (3.0.1)\n",
            "Requirement already satisfied: html5lib!=0.9999,!=0.99999,<0.99999999,>=0.999 in c:\\users\\bryan\\appdata\\local\\programs\\python\\python310\\lib\\site-packages (from bleach->kaggle>=1.3.9->tf-models-official) (0.9999999)\n",
            "Requirement already satisfied: pywin32>=226 in c:\\users\\bryan\\appdata\\roaming\\python\\python310\\site-packages (from portalocker->sacrebleu==2.2.0->tf-models-official) (306)\n",
            "Requirement already satisfied: text-unidecode>=1.3 in c:\\users\\bryan\\appdata\\local\\programs\\python\\python310\\lib\\site-packages (from python-slugify->kaggle>=1.3.9->tf-models-official) (1.3)\n",
            "Requirement already satisfied: requests-oauthlib>=0.7.0 in c:\\users\\bryan\\appdata\\local\\programs\\python\\python310\\lib\\site-packages (from google-auth-oauthlib<0.5,>=0.4.1->tensorboard<2.11,>=2.10->tensorflow~=2.10.0->tf-models-official) (1.3.1)\n",
            "Requirement already satisfied: MarkupSafe>=2.1.1 in c:\\users\\bryan\\appdata\\local\\programs\\python\\python310\\lib\\site-packages (from werkzeug>=1.0.1->tensorboard<2.11,>=2.10->tensorflow~=2.10.0->tf-models-official) (2.1.5)\n",
            "Requirement already satisfied: oauthlib>=3.0.0 in c:\\users\\bryan\\appdata\\local\\programs\\python\\python310\\lib\\site-packages (from requests-oauthlib>=0.7.0->google-auth-oauthlib<0.5,>=0.4.1->tensorboard<2.11,>=2.10->tensorflow~=2.10.0->tf-models-official) (3.2.2)\n",
            "Note: you may need to restart the kernel to use updated packages.\n"
          ]
        },
        {
          "name": "stderr",
          "output_type": "stream",
          "text": [
            "WARNING: Ignoring invalid distribution -ensorboard (c:\\users\\bryan\\appdata\\local\\programs\\python\\python310\\lib\\site-packages)\n",
            "WARNING: Ignoring invalid distribution -rotobuf (c:\\users\\bryan\\appdata\\local\\programs\\python\\python310\\lib\\site-packages)\n",
            "WARNING: Ignoring invalid distribution -ensorboard (c:\\users\\bryan\\appdata\\local\\programs\\python\\python310\\lib\\site-packages)\n",
            "WARNING: Ignoring invalid distribution -rotobuf (c:\\users\\bryan\\appdata\\local\\programs\\python\\python310\\lib\\site-packages)\n"
          ]
        }
      ],
      "source": [
        "pip install tf-models-official"
      ]
    },
    {
      "cell_type": "code",
      "execution_count": 10,
      "metadata": {
        "id": "_XgTpm9ZxoN9"
      },
      "outputs": [
        {
          "name": "stderr",
          "output_type": "stream",
          "text": [
            "c:\\Users\\Bryan\\AppData\\Local\\Programs\\Python\\Python310\\lib\\site-packages\\tensorflow_addons\\utils\\tfa_eol_msg.py:23: UserWarning: \n",
            "\n",
            "TensorFlow Addons (TFA) has ended development and introduction of new features.\n",
            "TFA has entered a minimal maintenance and release mode until a planned end of life in May 2024.\n",
            "Please modify downstream libraries to take dependencies from other repositories in our TensorFlow community (e.g. Keras, Keras-CV, and Keras-NLP). \n",
            "\n",
            "For more information see: https://github.com/tensorflow/addons/issues/2807 \n",
            "\n",
            "  warnings.warn(\n",
            "c:\\Users\\Bryan\\AppData\\Local\\Programs\\Python\\Python310\\lib\\site-packages\\tensorflow_addons\\utils\\ensure_tf_install.py:53: UserWarning: Tensorflow Addons supports using Python ops for all Tensorflow versions above or equal to 2.12.0 and strictly below 2.15.0 (nightly versions are not supported). \n",
            " The versions of TensorFlow you are currently using is 2.10.1 and is not supported. \n",
            "Some things might work, some things might not.\n",
            "If you were to encounter a bug, do not file an issue.\n",
            "If you want to make sure you're using a tested and supported configuration, either change the TensorFlow version or the TensorFlow Addons's version. \n",
            "You can find the compatibility matrix in TensorFlow Addon's readme:\n",
            "https://github.com/tensorflow/addons\n",
            "  warnings.warn(\n"
          ]
        }
      ],
      "source": [
        "\n",
        "import pandas as pd\n",
        "import tensorflow as tf\n",
        "import tensorflow_hub as hub\n",
        "import tensorflow_text as text\n",
        "from official.nlp import optimization  # para crear el optimizador AdamW\n",
        "from sklearn.model_selection import train_test_split"
      ]
    },
    {
      "cell_type": "code",
      "execution_count": 11,
      "metadata": {
        "id": "pOdqCMoQDRJL"
      },
      "outputs": [],
      "source": [
        "import pandas as pd\n",
        "\n",
        "# Ruta al archivo CSV\n",
        "file_path = 'C:/Users/Bryan/codigo/Codigo_Transformer/Data/phishing_dataset.csv'\n",
        "\n",
        "# Cargar el dataset\n",
        "df = pd.read_csv(file_path)\n",
        "\n",
        "# Dividir el dataset en conjuntos de entrenamiento, validación y prueba\n",
        "train_df, test_df = train_test_split(df, test_size=0.2, random_state=42)\n",
        "train_df, val_df = train_test_split(train_df, test_size=0.2, random_state=42)\n",
        "\n"
      ]
    },
    {
      "cell_type": "markdown",
      "metadata": {
        "id": "lN9lWCYfPo7b"
      },
      "source": [
        "Next, you will use the `text_dataset_from_directory` utility to create a labeled `tf.data.Dataset`.\n",
        "\n",
        "The IMDB dataset has already been divided into train and test, but it lacks a validation set. Let's create a validation set using an 80:20 split of the training data by using the `validation_split` argument below.\n",
        "\n",
        "Note:  When using the `validation_split` and `subset` arguments, make sure to either specify a random seed, or to pass `shuffle=False`, so that the validation and training splits have no overlap."
      ]
    },
    {
      "cell_type": "code",
      "execution_count": 12,
      "metadata": {
        "id": "6IwI_2bcIeX8"
      },
      "outputs": [],
      "source": [
        "# Constantes para el entrenamiento\n",
        "AUTOTUNE = tf.data.AUTOTUNE\n",
        "batch_size = 32\n",
        "seed = 42\n",
        "epochs = 3\n",
        "\n",
        "# Crear datasets de TensorFlow\n",
        "def convert_df_to_tf_dataset(df, shuffle=True, batch_size=32):\n",
        "    ds = tf.data.Dataset.from_tensor_slices((df['contexts'].values, df['phishing'].values))\n",
        "    if shuffle:\n",
        "        ds = ds.shuffle(buffer_size=len(df))\n",
        "    ds = ds.batch(batch_size)\n",
        "    ds = ds.cache().prefetch(buffer_size=AUTOTUNE)\n",
        "    return ds\n",
        "\n",
        "train_ds = convert_df_to_tf_dataset(train_df, shuffle=True, batch_size=batch_size)\n",
        "val_ds = convert_df_to_tf_dataset(val_df, shuffle=False, batch_size=batch_size)\n",
        "test_ds = convert_df_to_tf_dataset(test_df, shuffle=False, batch_size=batch_size)"
      ]
    },
    {
      "cell_type": "markdown",
      "metadata": {
        "id": "HGm10A5HRGXp"
      },
      "source": [
        "Let's take a look at a few reviews."
      ]
    },
    {
      "cell_type": "code",
      "execution_count": 13,
      "metadata": {
        "id": "JuxDkcvVIoev"
      },
      "outputs": [],
      "source": [
        "# Definir URLs de TensorFlow Hub para el preprocesamiento y el encoder BERT\n",
        "tfhub_handle_preprocess = 'https://tfhub.dev/tensorflow/bert_en_uncased_preprocess/3'\n",
        "tfhub_handle_encoder = 'https://tfhub.dev/tensorflow/small_bert/bert_en_uncased_L-2_H-768_A-12/1'\n"
      ]
    },
    {
      "cell_type": "code",
      "execution_count": 14,
      "metadata": {},
      "outputs": [
        {
          "name": "stdout",
          "output_type": "stream",
          "text": [
            "Collecting tf-models-official==2.13.*\n",
            "  Using cached tf_models_official-2.13.2-py2.py3-none-any.whl.metadata (1.4 kB)\n",
            "Requirement already satisfied: Cython in c:\\users\\bryan\\appdata\\local\\programs\\python\\python310\\lib\\site-packages (from tf-models-official==2.13.*) (3.0.8)\n",
            "Requirement already satisfied: Pillow in c:\\users\\bryan\\appdata\\local\\programs\\python\\python310\\lib\\site-packages (from tf-models-official==2.13.*) (10.2.0)\n",
            "Requirement already satisfied: gin-config in c:\\users\\bryan\\appdata\\local\\programs\\python\\python310\\lib\\site-packages (from tf-models-official==2.13.*) (0.5.0)\n",
            "Requirement already satisfied: google-api-python-client>=1.6.7 in c:\\users\\bryan\\appdata\\local\\programs\\python\\python310\\lib\\site-packages (from tf-models-official==2.13.*) (2.118.0)\n",
            "Requirement already satisfied: immutabledict in c:\\users\\bryan\\appdata\\local\\programs\\python\\python310\\lib\\site-packages (from tf-models-official==2.13.*) (4.1.0)\n",
            "Requirement already satisfied: kaggle>=1.3.9 in c:\\users\\bryan\\appdata\\local\\programs\\python\\python310\\lib\\site-packages (from tf-models-official==2.13.*) (1.6.6)\n",
            "Requirement already satisfied: matplotlib in c:\\users\\bryan\\appdata\\local\\programs\\python\\python310\\lib\\site-packages (from tf-models-official==2.13.*) (3.8.3)\n",
            "Requirement already satisfied: numpy>=1.20 in c:\\users\\bryan\\appdata\\local\\programs\\python\\python310\\lib\\site-packages (from tf-models-official==2.13.*) (1.26.4)\n",
            "Requirement already satisfied: oauth2client in c:\\users\\bryan\\appdata\\local\\programs\\python\\python310\\lib\\site-packages (from tf-models-official==2.13.*) (4.1.3)\n",
            "Requirement already satisfied: opencv-python-headless in c:\\users\\bryan\\appdata\\local\\programs\\python\\python310\\lib\\site-packages (from tf-models-official==2.13.*) (4.9.0.80)\n",
            "Requirement already satisfied: pandas>=0.22.0 in c:\\users\\bryan\\appdata\\local\\programs\\python\\python310\\lib\\site-packages (from tf-models-official==2.13.*) (2.2.0)\n",
            "Requirement already satisfied: psutil>=5.4.3 in c:\\users\\bryan\\appdata\\roaming\\python\\python310\\site-packages (from tf-models-official==2.13.*) (5.9.8)\n",
            "Requirement already satisfied: py-cpuinfo>=3.3.0 in c:\\users\\bryan\\appdata\\local\\programs\\python\\python310\\lib\\site-packages (from tf-models-official==2.13.*) (9.0.0)\n",
            "Requirement already satisfied: pycocotools in c:\\users\\bryan\\appdata\\local\\programs\\python\\python310\\lib\\site-packages (from tf-models-official==2.13.*) (2.0.7)\n",
            "Collecting pyyaml>=6.0.0 (from tf-models-official==2.13.*)\n",
            "  Using cached PyYAML-6.0.1-cp310-cp310-win_amd64.whl.metadata (2.1 kB)\n",
            "Requirement already satisfied: sacrebleu in c:\\users\\bryan\\appdata\\local\\programs\\python\\python310\\lib\\site-packages (from tf-models-official==2.13.*) (2.2.0)\n",
            "Requirement already satisfied: scipy>=0.19.1 in c:\\users\\bryan\\appdata\\local\\programs\\python\\python310\\lib\\site-packages (from tf-models-official==2.13.*) (1.12.0)\n",
            "Requirement already satisfied: sentencepiece in c:\\users\\bryan\\appdata\\local\\programs\\python\\python310\\lib\\site-packages (from tf-models-official==2.13.*) (0.2.0)\n",
            "Requirement already satisfied: seqeval in c:\\users\\bryan\\appdata\\local\\programs\\python\\python310\\lib\\site-packages (from tf-models-official==2.13.*) (1.2.2)\n",
            "Requirement already satisfied: six in c:\\users\\bryan\\appdata\\roaming\\python\\python310\\site-packages (from tf-models-official==2.13.*) (1.16.0)\n",
            "Requirement already satisfied: tensorflow-datasets in c:\\users\\bryan\\appdata\\local\\programs\\python\\python310\\lib\\site-packages (from tf-models-official==2.13.*) (4.9.0)\n",
            "Requirement already satisfied: tensorflow-hub>=0.6.0 in c:\\users\\bryan\\appdata\\local\\programs\\python\\python310\\lib\\site-packages (from tf-models-official==2.13.*) (0.16.1)\n",
            "Requirement already satisfied: tensorflow-model-optimization>=0.4.1 in c:\\users\\bryan\\appdata\\local\\programs\\python\\python310\\lib\\site-packages (from tf-models-official==2.13.*) (0.8.0)\n",
            "INFO: pip is looking at multiple versions of tf-models-official to determine which version is compatible with other requirements. This could take a while.\n",
            "Collecting tf-models-official==2.13.*\n",
            "  Using cached tf_models_official-2.13.1-py2.py3-none-any.whl.metadata (1.4 kB)\n",
            "Requirement already satisfied: pyyaml<5.4.0,>=5.1 in c:\\users\\bryan\\appdata\\local\\programs\\python\\python310\\lib\\site-packages (from tf-models-official==2.13.*) (5.3.1)\n",
            "  Using cached tf_models_official-2.13.0-py2.py3-none-any.whl.metadata (1.4 kB)\n",
            "\n",
            "The conflict is caused by:\n",
            "    tf-models-official 2.13.2 depends on tensorflow-text~=2.13.0\n",
            "    tf-models-official 2.13.1 depends on tensorflow-text~=2.13.0\n",
            "    tf-models-official 2.13.0 depends on tensorflow-text~=2.13.0\n",
            "\n",
            "To fix this you could try to:\n",
            "1. loosen the range of package versions you've specified\n",
            "2. remove package versions to allow pip attempt to solve the dependency conflict\n",
            "\n",
            "Note: you may need to restart the kernel to use updated packages.\n"
          ]
        },
        {
          "name": "stderr",
          "output_type": "stream",
          "text": [
            "WARNING: Ignoring invalid distribution -ensorboard (c:\\users\\bryan\\appdata\\local\\programs\\python\\python310\\lib\\site-packages)\n",
            "WARNING: Ignoring invalid distribution -rotobuf (c:\\users\\bryan\\appdata\\local\\programs\\python\\python310\\lib\\site-packages)\n",
            "ERROR: Cannot install tf-models-official==2.13.0, tf-models-official==2.13.1 and tf-models-official==2.13.2 because these package versions have conflicting dependencies.\n",
            "ERROR: ResolutionImpossible: for help visit https://pip.pypa.io/en/latest/topics/dependency-resolution/#dealing-with-dependency-conflicts\n"
          ]
        }
      ],
      "source": [
        "pip install \"tf-models-official==2.13.*\""
      ]
    },
    {
      "cell_type": "markdown",
      "metadata": {
        "id": "7WrcxxTRDdHi"
      },
      "source": [
        "## The preprocessing model\n",
        "\n",
        "Text inputs need to be transformed to numeric token ids and arranged in several Tensors before being input to BERT. TensorFlow Hub provides a matching preprocessing model for each of the BERT models discussed above, which implements this transformation using TF ops from the TF.text library. It is not necessary to run pure Python code outside your TensorFlow model to preprocess text.\n",
        "\n",
        "The preprocessing model must be the one referenced by the documentation of the BERT model, which you can read at the URL printed above. For BERT models from the drop-down above, the preprocessing model is selected automatically.\n",
        "\n",
        "Note: You will load the preprocessing model into a [hub.KerasLayer](https://www.tensorflow.org/hub/api_docs/python/hub/KerasLayer) to compose your fine-tuned model. This is the preferred API to load a TF2-style SavedModel from TF Hub into a Keras model."
      ]
    },
    {
      "cell_type": "code",
      "execution_count": 15,
      "metadata": {
        "colab": {
          "base_uri": "https://localhost:8080/"
        },
        "id": "r9-zCzJpnuwS",
        "outputId": "de516485-7ade-425d-9f1f-ab70b6cee3bc"
      },
      "outputs": [],
      "source": [
        "# Construir el modelo\n",
        "def build_classifier_model():\n",
        "    text_input = tf.keras.layers.Input(shape=(), dtype=tf.string, name='text')\n",
        "    preprocessing_layer = hub.KerasLayer(tfhub_handle_preprocess, name='preprocessing')\n",
        "    encoder_inputs = preprocessing_layer(text_input)\n",
        "    encoder = hub.KerasLayer(tfhub_handle_encoder, trainable=True, name='BERT_encoder')\n",
        "    outputs = encoder(encoder_inputs)\n",
        "    net = outputs['pooled_output']\n",
        "    net = tf.keras.layers.Dropout(0.1)(net)\n",
        "    net = tf.keras.layers.Dense(1, activation=None, name='classifier')(net)\n",
        "    return tf.keras.Model(text_input, net)\n",
        "\n",
        "model = build_classifier_model()"
      ]
    },
    {
      "cell_type": "code",
      "execution_count": 16,
      "metadata": {},
      "outputs": [
        {
          "name": "stdout",
          "output_type": "stream",
          "text": [
            "Epoch 1/5\n",
            "196/196 [==============================] - 967s 5s/step - loss: 0.3580 - binary_accuracy: 0.8125 - val_loss: 0.2197 - val_binary_accuracy: 0.8924\n",
            "Epoch 2/5\n",
            "196/196 [==============================] - 956s 5s/step - loss: 0.1841 - binary_accuracy: 0.9235 - val_loss: 0.2073 - val_binary_accuracy: 0.9091\n",
            "Epoch 3/5\n",
            "196/196 [==============================] - 952s 5s/step - loss: 0.1322 - binary_accuracy: 0.9465 - val_loss: 0.2092 - val_binary_accuracy: 0.9129\n",
            "Epoch 4/5\n",
            "196/196 [==============================] - 944s 5s/step - loss: 0.1064 - binary_accuracy: 0.9590 - val_loss: 0.2052 - val_binary_accuracy: 0.9187\n",
            "Epoch 5/5\n",
            "196/196 [==============================] - 918s 5s/step - loss: 0.0901 - binary_accuracy: 0.9673 - val_loss: 0.1946 - val_binary_accuracy: 0.9315\n"
          ]
        }
      ],
      "source": [
        "# Compilar el modelo\n",
        "loss = tf.keras.losses.BinaryCrossentropy(from_logits=True)\n",
        "metrics = tf.metrics.BinaryAccuracy()\n",
        "\n",
        "epochs = 5\n",
        "steps_per_epoch = tf.data.experimental.cardinality(train_ds).numpy()\n",
        "num_train_steps = steps_per_epoch * epochs\n",
        "num_warmup_steps = int(0.1*num_train_steps)\n",
        "\n",
        "init_lr = 3e-5\n",
        "optimizer = optimization.create_optimizer(init_lr=init_lr, num_train_steps=num_train_steps, num_warmup_steps=num_warmup_steps, optimizer_type='adamw')\n",
        "\n",
        "model.compile(optimizer=optimizer, loss=loss, metrics=[metrics])\n",
        "\n",
        "# Entrenar el modelo\n",
        "history = model.fit(train_ds, validation_data=val_ds, epochs=epochs)"
      ]
    },
    {
      "cell_type": "code",
      "execution_count": 17,
      "metadata": {},
      "outputs": [
        {
          "name": "stdout",
          "output_type": "stream",
          "text": [
            "Requirement already satisfied: tensorflow-text in c:\\users\\bryan\\appdata\\local\\programs\\python\\python310\\lib\\site-packages (2.10.0)\n",
            "Requirement already satisfied: tensorflow-hub>=0.8.0 in c:\\users\\bryan\\appdata\\local\\programs\\python\\python310\\lib\\site-packages (from tensorflow-text) (0.16.1)\n",
            "Requirement already satisfied: tensorflow<2.11,>=2.10.0 in c:\\users\\bryan\\appdata\\local\\programs\\python\\python310\\lib\\site-packages (from tensorflow-text) (2.10.1)\n",
            "Requirement already satisfied: absl-py>=1.0.0 in c:\\users\\bryan\\appdata\\local\\programs\\python\\python310\\lib\\site-packages (from tensorflow<2.11,>=2.10.0->tensorflow-text) (1.4.0)\n",
            "Requirement already satisfied: astunparse>=1.6.0 in c:\\users\\bryan\\appdata\\local\\programs\\python\\python310\\lib\\site-packages (from tensorflow<2.11,>=2.10.0->tensorflow-text) (1.6.3)\n",
            "Requirement already satisfied: flatbuffers>=2.0 in c:\\users\\bryan\\appdata\\local\\programs\\python\\python310\\lib\\site-packages (from tensorflow<2.11,>=2.10.0->tensorflow-text) (23.5.26)\n",
            "Requirement already satisfied: gast<=0.4.0,>=0.2.1 in c:\\users\\bryan\\appdata\\local\\programs\\python\\python310\\lib\\site-packages (from tensorflow<2.11,>=2.10.0->tensorflow-text) (0.4.0)\n",
            "Requirement already satisfied: google-pasta>=0.1.1 in c:\\users\\bryan\\appdata\\local\\programs\\python\\python310\\lib\\site-packages (from tensorflow<2.11,>=2.10.0->tensorflow-text) (0.2.0)\n",
            "Requirement already satisfied: h5py>=2.9.0 in c:\\users\\bryan\\appdata\\local\\programs\\python\\python310\\lib\\site-packages (from tensorflow<2.11,>=2.10.0->tensorflow-text) (3.10.0)\n",
            "Requirement already satisfied: keras-preprocessing>=1.1.1 in c:\\users\\bryan\\appdata\\local\\programs\\python\\python310\\lib\\site-packages (from tensorflow<2.11,>=2.10.0->tensorflow-text) (1.1.2)\n",
            "Requirement already satisfied: libclang>=13.0.0 in c:\\users\\bryan\\appdata\\local\\programs\\python\\python310\\lib\\site-packages (from tensorflow<2.11,>=2.10.0->tensorflow-text) (16.0.6)\n",
            "Requirement already satisfied: numpy>=1.20 in c:\\users\\bryan\\appdata\\local\\programs\\python\\python310\\lib\\site-packages (from tensorflow<2.11,>=2.10.0->tensorflow-text) (1.26.4)\n",
            "Requirement already satisfied: opt-einsum>=2.3.2 in c:\\users\\bryan\\appdata\\local\\programs\\python\\python310\\lib\\site-packages (from tensorflow<2.11,>=2.10.0->tensorflow-text) (3.3.0)\n",
            "Requirement already satisfied: packaging in c:\\users\\bryan\\appdata\\roaming\\python\\python310\\site-packages (from tensorflow<2.11,>=2.10.0->tensorflow-text) (23.2)\n",
            "Requirement already satisfied: protobuf<3.20,>=3.9.2 in c:\\users\\bryan\\appdata\\local\\programs\\python\\python310\\lib\\site-packages (from tensorflow<2.11,>=2.10.0->tensorflow-text) (3.19.6)\n",
            "Requirement already satisfied: setuptools in c:\\users\\bryan\\appdata\\local\\programs\\python\\python310\\lib\\site-packages (from tensorflow<2.11,>=2.10.0->tensorflow-text) (58.1.0)\n",
            "Requirement already satisfied: six>=1.12.0 in c:\\users\\bryan\\appdata\\roaming\\python\\python310\\site-packages (from tensorflow<2.11,>=2.10.0->tensorflow-text) (1.16.0)\n",
            "Requirement already satisfied: termcolor>=1.1.0 in c:\\users\\bryan\\appdata\\local\\programs\\python\\python310\\lib\\site-packages (from tensorflow<2.11,>=2.10.0->tensorflow-text) (2.4.0)\n",
            "Requirement already satisfied: typing-extensions>=3.6.6 in c:\\users\\bryan\\appdata\\local\\programs\\python\\python310\\lib\\site-packages (from tensorflow<2.11,>=2.10.0->tensorflow-text) (4.9.0)\n",
            "Requirement already satisfied: wrapt>=1.11.0 in c:\\users\\bryan\\appdata\\local\\programs\\python\\python310\\lib\\site-packages (from tensorflow<2.11,>=2.10.0->tensorflow-text) (1.14.1)\n",
            "Requirement already satisfied: tensorflow-io-gcs-filesystem>=0.23.1 in c:\\users\\bryan\\appdata\\local\\programs\\python\\python310\\lib\\site-packages (from tensorflow<2.11,>=2.10.0->tensorflow-text) (0.31.0)\n",
            "Requirement already satisfied: grpcio<2.0,>=1.24.3 in c:\\users\\bryan\\appdata\\local\\programs\\python\\python310\\lib\\site-packages (from tensorflow<2.11,>=2.10.0->tensorflow-text) (1.60.1)\n",
            "Requirement already satisfied: tensorboard<2.11,>=2.10 in c:\\users\\bryan\\appdata\\local\\programs\\python\\python310\\lib\\site-packages (from tensorflow<2.11,>=2.10.0->tensorflow-text) (2.10.1)\n",
            "Requirement already satisfied: tensorflow-estimator<2.11,>=2.10.0 in c:\\users\\bryan\\appdata\\local\\programs\\python\\python310\\lib\\site-packages (from tensorflow<2.11,>=2.10.0->tensorflow-text) (2.10.0)\n",
            "Requirement already satisfied: keras<2.11,>=2.10.0 in c:\\users\\bryan\\appdata\\local\\programs\\python\\python310\\lib\\site-packages (from tensorflow<2.11,>=2.10.0->tensorflow-text) (2.10.0)\n",
            "Requirement already satisfied: tf-keras>=2.14.1 in c:\\users\\bryan\\appdata\\local\\programs\\python\\python310\\lib\\site-packages (from tensorflow-hub>=0.8.0->tensorflow-text) (2.15.0)\n",
            "Requirement already satisfied: wheel<1.0,>=0.23.0 in c:\\users\\bryan\\appdata\\local\\programs\\python\\python310\\lib\\site-packages (from astunparse>=1.6.0->tensorflow<2.11,>=2.10.0->tensorflow-text) (0.42.0)\n",
            "Requirement already satisfied: google-auth<3,>=1.6.3 in c:\\users\\bryan\\appdata\\local\\programs\\python\\python310\\lib\\site-packages (from tensorboard<2.11,>=2.10->tensorflow<2.11,>=2.10.0->tensorflow-text) (2.28.0)\n",
            "Requirement already satisfied: google-auth-oauthlib<0.5,>=0.4.1 in c:\\users\\bryan\\appdata\\local\\programs\\python\\python310\\lib\\site-packages (from tensorboard<2.11,>=2.10->tensorflow<2.11,>=2.10.0->tensorflow-text) (0.4.6)\n",
            "Requirement already satisfied: markdown>=2.6.8 in c:\\users\\bryan\\appdata\\local\\programs\\python\\python310\\lib\\site-packages (from tensorboard<2.11,>=2.10->tensorflow<2.11,>=2.10.0->tensorflow-text) (3.5.2)\n",
            "Requirement already satisfied: requests<3,>=2.21.0 in c:\\users\\bryan\\appdata\\local\\programs\\python\\python310\\lib\\site-packages (from tensorboard<2.11,>=2.10->tensorflow<2.11,>=2.10.0->tensorflow-text) (2.31.0)\n",
            "Requirement already satisfied: tensorboard-data-server<0.7.0,>=0.6.0 in c:\\users\\bryan\\appdata\\local\\programs\\python\\python310\\lib\\site-packages (from tensorboard<2.11,>=2.10->tensorflow<2.11,>=2.10.0->tensorflow-text) (0.6.1)\n",
            "Requirement already satisfied: tensorboard-plugin-wit>=1.6.0 in c:\\users\\bryan\\appdata\\local\\programs\\python\\python310\\lib\\site-packages (from tensorboard<2.11,>=2.10->tensorflow<2.11,>=2.10.0->tensorflow-text) (1.8.1)\n",
            "Requirement already satisfied: werkzeug>=1.0.1 in c:\\users\\bryan\\appdata\\local\\programs\\python\\python310\\lib\\site-packages (from tensorboard<2.11,>=2.10->tensorflow<2.11,>=2.10.0->tensorflow-text) (3.0.1)\n",
            "Requirement already satisfied: cachetools<6.0,>=2.0.0 in c:\\users\\bryan\\appdata\\local\\programs\\python\\python310\\lib\\site-packages (from google-auth<3,>=1.6.3->tensorboard<2.11,>=2.10->tensorflow<2.11,>=2.10.0->tensorflow-text) (5.3.2)\n",
            "Requirement already satisfied: pyasn1-modules>=0.2.1 in c:\\users\\bryan\\appdata\\local\\programs\\python\\python310\\lib\\site-packages (from google-auth<3,>=1.6.3->tensorboard<2.11,>=2.10->tensorflow<2.11,>=2.10.0->tensorflow-text) (0.3.0)\n",
            "Requirement already satisfied: rsa<5,>=3.1.4 in c:\\users\\bryan\\appdata\\local\\programs\\python\\python310\\lib\\site-packages (from google-auth<3,>=1.6.3->tensorboard<2.11,>=2.10->tensorflow<2.11,>=2.10.0->tensorflow-text) (4.9)\n",
            "Requirement already satisfied: requests-oauthlib>=0.7.0 in c:\\users\\bryan\\appdata\\local\\programs\\python\\python310\\lib\\site-packages (from google-auth-oauthlib<0.5,>=0.4.1->tensorboard<2.11,>=2.10->tensorflow<2.11,>=2.10.0->tensorflow-text) (1.3.1)\n",
            "Requirement already satisfied: charset-normalizer<4,>=2 in c:\\users\\bryan\\appdata\\local\\programs\\python\\python310\\lib\\site-packages (from requests<3,>=2.21.0->tensorboard<2.11,>=2.10->tensorflow<2.11,>=2.10.0->tensorflow-text) (3.3.2)\n",
            "Requirement already satisfied: idna<4,>=2.5 in c:\\users\\bryan\\appdata\\local\\programs\\python\\python310\\lib\\site-packages (from requests<3,>=2.21.0->tensorboard<2.11,>=2.10->tensorflow<2.11,>=2.10.0->tensorflow-text) (3.6)\n",
            "Requirement already satisfied: urllib3<3,>=1.21.1 in c:\\users\\bryan\\appdata\\local\\programs\\python\\python310\\lib\\site-packages (from requests<3,>=2.21.0->tensorboard<2.11,>=2.10->tensorflow<2.11,>=2.10.0->tensorflow-text) (2.2.1)\n",
            "Requirement already satisfied: certifi>=2017.4.17 in c:\\users\\bryan\\appdata\\local\\programs\\python\\python310\\lib\\site-packages (from requests<3,>=2.21.0->tensorboard<2.11,>=2.10->tensorflow<2.11,>=2.10.0->tensorflow-text) (2024.2.2)\n",
            "Requirement already satisfied: MarkupSafe>=2.1.1 in c:\\users\\bryan\\appdata\\local\\programs\\python\\python310\\lib\\site-packages (from werkzeug>=1.0.1->tensorboard<2.11,>=2.10->tensorflow<2.11,>=2.10.0->tensorflow-text) (2.1.5)\n",
            "Requirement already satisfied: pyasn1<0.6.0,>=0.4.6 in c:\\users\\bryan\\appdata\\local\\programs\\python\\python310\\lib\\site-packages (from pyasn1-modules>=0.2.1->google-auth<3,>=1.6.3->tensorboard<2.11,>=2.10->tensorflow<2.11,>=2.10.0->tensorflow-text) (0.5.1)\n",
            "Requirement already satisfied: oauthlib>=3.0.0 in c:\\users\\bryan\\appdata\\local\\programs\\python\\python310\\lib\\site-packages (from requests-oauthlib>=0.7.0->google-auth-oauthlib<0.5,>=0.4.1->tensorboard<2.11,>=2.10->tensorflow<2.11,>=2.10.0->tensorflow-text) (3.2.2)\n",
            "Note: you may need to restart the kernel to use updated packages.\n"
          ]
        },
        {
          "name": "stderr",
          "output_type": "stream",
          "text": [
            "WARNING: Ignoring invalid distribution -ensorboard (c:\\users\\bryan\\appdata\\local\\programs\\python\\python310\\lib\\site-packages)\n",
            "WARNING: Ignoring invalid distribution -rotobuf (c:\\users\\bryan\\appdata\\local\\programs\\python\\python310\\lib\\site-packages)\n",
            "WARNING: Ignoring invalid distribution -ensorboard (c:\\users\\bryan\\appdata\\local\\programs\\python\\python310\\lib\\site-packages)\n",
            "WARNING: Ignoring invalid distribution -rotobuf (c:\\users\\bryan\\appdata\\local\\programs\\python\\python310\\lib\\site-packages)\n"
          ]
        }
      ],
      "source": [
        "pip install tensorflow-text\n"
      ]
    },
    {
      "cell_type": "code",
      "execution_count": 18,
      "metadata": {},
      "outputs": [
        {
          "name": "stdout",
          "output_type": "stream",
          "text": [
            "62/62 [==============================] - 85s 1s/step - loss: 0.2032 - binary_accuracy: 0.9278\n",
            "Pérdida: 0.2031974047422409, Precisión: 0.9278033971786499\n"
          ]
        }
      ],
      "source": [
        "# Evaluar el modelo\n",
        "loss, accuracy = model.evaluate(test_ds)\n",
        "print(f'Pérdida: {loss}, Precisión: {accuracy}')"
      ]
    },
    {
      "cell_type": "code",
      "execution_count": 19,
      "metadata": {},
      "outputs": [
        {
          "name": "stderr",
          "output_type": "stream",
          "text": [
            "WARNING:absl:Found untraced functions such as restored_function_body, restored_function_body, restored_function_body, restored_function_body, restored_function_body while saving (showing 5 of 64). These functions will not be directly callable after loading.\n"
          ]
        },
        {
          "name": "stdout",
          "output_type": "stream",
          "text": [
            "INFO:tensorflow:Assets written to: BERT_model\\assets\n"
          ]
        },
        {
          "name": "stderr",
          "output_type": "stream",
          "text": [
            "INFO:tensorflow:Assets written to: BERT_model\\assets\n"
          ]
        }
      ],
      "source": [
        "import tensorflow as tf\n",
        "\n",
        "# Asumiendo que `model` es tu modelo de TensorFlow/Keras ya entrenado\n",
        "model_path = 'BERT_model'\n",
        "model.save(model_path, save_format='tf')\n"
      ]
    }
  ],
  "metadata": {
    "colab": {
      "provenance": []
    },
    "kernelspec": {
      "display_name": "Python 3",
      "name": "python3"
    },
    "language_info": {
      "codemirror_mode": {
        "name": "ipython",
        "version": 3
      },
      "file_extension": ".py",
      "mimetype": "text/x-python",
      "name": "python",
      "nbconvert_exporter": "python",
      "pygments_lexer": "ipython3",
      "version": "3.10.1"
    }
  },
  "nbformat": 4,
  "nbformat_minor": 0
}
